{
 "cells": [
  {
   "cell_type": "markdown",
   "metadata": {},
   "source": [
    "# Chaining except blocks"
   ]
  },
  {
   "cell_type": "code",
   "execution_count": 1,
   "metadata": {},
   "outputs": [
    {
     "name": "stdout",
     "output_type": "stream",
     "text": [
      "Error: Trying to divide with zero\n"
     ]
    }
   ],
   "source": [
    "def causeError():\n",
    "    try: \n",
    "        1/0\n",
    "    except TypeError:\n",
    "        print(\"A TypeError has occured\")\n",
    "    except ZeroDivisionError:\n",
    "        print(\"Error: Trying to divide with zero\")\n",
    "    except Exception as e:\n",
    "        print(\"Some error has occured!\")\n",
    "\n",
    "causeError()"
   ]
  },
  {
   "cell_type": "code",
   "execution_count": 8,
   "metadata": {},
   "outputs": [
    {
     "name": "stdout",
     "output_type": "stream",
     "text": [
      "Some error has occured!\n"
     ]
    }
   ],
   "source": [
    "def handleException(func):\n",
    "    def wrapper(*args):\n",
    "        try:\n",
    "            func(*args)\n",
    "        except TypeError:\n",
    "            print(\"A TypeError has occured\")\n",
    "        except ZeroDivisionError:\n",
    "            print(\"Error: Trying to divide with zero\")\n",
    "        except Exception as e:\n",
    "            print(\"Some error has occured!\")\n",
    "  \n",
    "    return wrapper\n",
    "\n",
    "@handleException\n",
    "def causeError(n):\n",
    "    if n==0:\n",
    "        raise Exception()\n",
    "\n",
    "causeError(0)"
   ]
  }
 ],
 "metadata": {
  "kernelspec": {
   "display_name": "Python 3",
   "language": "python",
   "name": "python3"
  },
  "language_info": {
   "codemirror_mode": {
    "name": "ipython",
    "version": 3
   },
   "file_extension": ".py",
   "mimetype": "text/x-python",
   "name": "python",
   "nbconvert_exporter": "python",
   "pygments_lexer": "ipython3",
   "version": "3.12.3"
  }
 },
 "nbformat": 4,
 "nbformat_minor": 2
}
