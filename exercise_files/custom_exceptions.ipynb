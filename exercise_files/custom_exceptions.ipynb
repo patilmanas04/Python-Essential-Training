{
 "cells": [
  {
   "cell_type": "code",
   "execution_count": 2,
   "metadata": {},
   "outputs": [],
   "source": [
    "class HttpException(Exception):\n",
    "    statusCode = None\n",
    "    message = None\n",
    "    def __init__(self):\n",
    "        super().__init__(f'State code: {self.statusCode} and the message is: {self.message}')\n",
    "    \n",
    "class NotFound(HttpException):\n",
    "    statusCode = 404\n",
    "    message = \"The resources are not found!\"\n",
    "\n",
    "class InternalServerError(HttpException):\n",
    "    statusCode = 500\n",
    "    message = \"The server messed up!\"\n",
    "\n",
    "def raiseNotFoundException():\n",
    "    raise NotFound()\n",
    "\n",
    "def raiseInternalServerErrorException():\n",
    "    raise InternalServerError()"
   ]
  },
  {
   "cell_type": "code",
   "execution_count": 3,
   "metadata": {},
   "outputs": [
    {
     "ename": "NotFound",
     "evalue": "State code: 404 and the message is: The resources are not found!",
     "output_type": "error",
     "traceback": [
      "\u001b[1;31m---------------------------------------------------------------------------\u001b[0m",
      "\u001b[1;31mNotFound\u001b[0m                                  Traceback (most recent call last)",
      "Cell \u001b[1;32mIn[3], line 1\u001b[0m\n\u001b[1;32m----> 1\u001b[0m \u001b[43mraiseNotFoundException\u001b[49m\u001b[43m(\u001b[49m\u001b[43m)\u001b[49m\n",
      "Cell \u001b[1;32mIn[2], line 16\u001b[0m, in \u001b[0;36mraiseNotFoundException\u001b[1;34m()\u001b[0m\n\u001b[0;32m     15\u001b[0m \u001b[38;5;28;01mdef\u001b[39;00m \u001b[38;5;21mraiseNotFoundException\u001b[39m():\n\u001b[1;32m---> 16\u001b[0m     \u001b[38;5;28;01mraise\u001b[39;00m NotFound()\n",
      "\u001b[1;31mNotFound\u001b[0m: State code: 404 and the message is: The resources are not found!"
     ]
    }
   ],
   "source": [
    "raiseNotFoundException()"
   ]
  },
  {
   "cell_type": "code",
   "execution_count": 5,
   "metadata": {},
   "outputs": [
    {
     "ename": "InternalServerError",
     "evalue": "State code: 500 and the message is: The server messed up!",
     "output_type": "error",
     "traceback": [
      "\u001b[1;31m---------------------------------------------------------------------------\u001b[0m",
      "\u001b[1;31mInternalServerError\u001b[0m                       Traceback (most recent call last)",
      "Cell \u001b[1;32mIn[5], line 1\u001b[0m\n\u001b[1;32m----> 1\u001b[0m \u001b[43mraiseInternalServerErrorException\u001b[49m\u001b[43m(\u001b[49m\u001b[43m)\u001b[49m\n",
      "Cell \u001b[1;32mIn[2], line 19\u001b[0m, in \u001b[0;36mraiseInternalServerErrorException\u001b[1;34m()\u001b[0m\n\u001b[0;32m     18\u001b[0m \u001b[38;5;28;01mdef\u001b[39;00m \u001b[38;5;21mraiseInternalServerErrorException\u001b[39m():\n\u001b[1;32m---> 19\u001b[0m     \u001b[38;5;28;01mraise\u001b[39;00m InternalServerError()\n",
      "\u001b[1;31mInternalServerError\u001b[0m: State code: 500 and the message is: The server messed up!"
     ]
    }
   ],
   "source": [
    "raiseInternalServerErrorException()"
   ]
  }
 ],
 "metadata": {
  "kernelspec": {
   "display_name": "Python 3",
   "language": "python",
   "name": "python3"
  },
  "language_info": {
   "codemirror_mode": {
    "name": "ipython",
    "version": 3
   },
   "file_extension": ".py",
   "mimetype": "text/x-python",
   "name": "python",
   "nbconvert_exporter": "python",
   "pygments_lexer": "ipython3",
   "version": "3.12.3"
  }
 },
 "nbformat": 4,
 "nbformat_minor": 2
}
