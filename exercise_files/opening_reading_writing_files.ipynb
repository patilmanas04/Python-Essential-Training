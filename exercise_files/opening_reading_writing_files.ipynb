{
 "cells": [
  {
   "cell_type": "code",
   "execution_count": 34,
   "metadata": {},
   "outputs": [
    {
     "name": "stdout",
     "output_type": "stream",
     "text": [
      "<_io.TextIOWrapper name='input.txt' mode='r' encoding='cp1252'>\n"
     ]
    }
   ],
   "source": [
    "f = open('input.txt', 'r')\n",
    "print(f)"
   ]
  },
  {
   "cell_type": "code",
   "execution_count": 35,
   "metadata": {},
   "outputs": [
    {
     "data": {
      "text/plain": [
       "'A Poem about prgramming\\n'"
      ]
     },
     "execution_count": 35,
     "metadata": {},
     "output_type": "execute_result"
    }
   ],
   "source": [
    "f.readline()"
   ]
  },
  {
   "cell_type": "code",
   "execution_count": 36,
   "metadata": {},
   "outputs": [],
   "source": [
    "# f.readlines()"
   ]
  },
  {
   "cell_type": "code",
   "execution_count": 37,
   "metadata": {},
   "outputs": [
    {
     "name": "stdout",
     "output_type": "stream",
     "text": [
      "\n",
      "In the realm of code, where logic prevails,\n",
      "A world of possibilities, where creativity sails.\n",
      "With keystrokes and brackets, we craft our art,\n",
      "Building solutions, piece by part.\n",
      "From algorithms elegant, to functions sublime,\n",
      "We navigate the syntax, one line at a time.\n",
      "Variables and loops, conditionals and more,\n",
      "We harness their power, to solve problems galore.\n",
      "Debugging our errors, like detectives we roam,\n",
      "Unraveling the mysteries, until bugs find no home.\n",
      "With patience and persistence, we conquer each glitch,\n",
      "Turning frustration into a triumphant switch.\n",
      "Collaboration and teamwork, we hold dear,\n",
      "For in the world of programming, we have nothing to fear.\n",
      "Together we innovate, pushing boundaries anew,\n",
      "Creating software that makes dreams come true.\n",
      "So let us code with passion, and let our imaginations soar,\n",
      "For in this digital realm, there's always something more.\n",
      "A poem about programming, a tribute to our craft,\n",
      "Where lines of code create a world that will forever last.\n"
     ]
    }
   ],
   "source": [
    "for line in f.readlines():\n",
    "    print(line.strip())"
   ]
  },
  {
   "cell_type": "code",
   "execution_count": 38,
   "metadata": {},
   "outputs": [
    {
     "name": "stdout",
     "output_type": "stream",
     "text": [
      "<_io.TextIOWrapper name='output.txt' mode='w' encoding='cp1252'>\n"
     ]
    }
   ],
   "source": [
    "f = open('output.txt', 'w')\n",
    "print(f)\n",
    "f.write(\"Line 1\\n\")\n",
    "f.write(\"Line 2\\n\")\n",
    "f.close()"
   ]
  },
  {
   "cell_type": "code",
   "execution_count": 39,
   "metadata": {},
   "outputs": [],
   "source": [
    "f = open('output.txt', 'a')\n",
    "f.write(\"Line 3\\n\")\n",
    "f.write(\"Line 4\\n\")\n",
    "f.close()"
   ]
  },
  {
   "cell_type": "code",
   "execution_count": 40,
   "metadata": {},
   "outputs": [],
   "source": [
    "with open('output.txt', 'a') as file:\n",
    "    file.write(\"Some stuff\\n\")\n",
    "    file.write(\"Some another stuff\\n\")"
   ]
  }
 ],
 "metadata": {
  "kernelspec": {
   "display_name": "Python 3",
   "language": "python",
   "name": "python3"
  },
  "language_info": {
   "codemirror_mode": {
    "name": "ipython",
    "version": 3
   },
   "file_extension": ".py",
   "mimetype": "text/x-python",
   "name": "python",
   "nbconvert_exporter": "python",
   "pygments_lexer": "ipython3",
   "version": "3.12.3"
  }
 },
 "nbformat": 4,
 "nbformat_minor": 2
}
