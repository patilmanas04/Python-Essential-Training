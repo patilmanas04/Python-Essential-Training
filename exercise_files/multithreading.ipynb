{
 "cells": [
  {
   "cell_type": "code",
   "execution_count": 1,
   "metadata": {},
   "outputs": [],
   "source": [
    "import threading\n",
    "import time"
   ]
  },
  {
   "cell_type": "code",
   "execution_count": 2,
   "metadata": {},
   "outputs": [],
   "source": [
    "def longSquare(n):\n",
    "    time.sleep(1)\n",
    "    return n**2"
   ]
  },
  {
   "cell_type": "code",
   "execution_count": 3,
   "metadata": {},
   "outputs": [
    {
     "name": "stdout",
     "output_type": "stream",
     "text": [
      "[1, 4, 9, 16, 25, 36, 49, 64, 81, 100]\n"
     ]
    }
   ],
   "source": [
    "squares = [longSquare(n) for n in range(1, 11)]\n",
    "print(squares)"
   ]
  },
  {
   "cell_type": "code",
   "execution_count": 6,
   "metadata": {},
   "outputs": [
    {
     "name": "stdout",
     "output_type": "stream",
     "text": [
      "{2: 4, 19: 361}\n"
     ]
    }
   ],
   "source": [
    "def longSquare(n, results):\n",
    "    time.sleep(1)\n",
    "    results[n] = n**2\n",
    "\n",
    "results = {}\n",
    "thread1 = threading.Thread(target=longSquare, args=(2, results))\n",
    "thread2 = threading.Thread(target=longSquare, args=(19, results))\n",
    "thread1.start()\n",
    "thread2.start()\n",
    "thread1.join()\n",
    "thread2.join()\n",
    "print(results)"
   ]
  },
  {
   "cell_type": "code",
   "execution_count": 8,
   "metadata": {},
   "outputs": [
    {
     "name": "stdout",
     "output_type": "stream",
     "text": [
      "{1: 1, 2: 4, 5: 25, 4: 16, 3: 9, 8: 64, 7: 49, 6: 36, 10: 100, 9: 81, 11: 121, 12: 144, 13: 169, 14: 196, 18: 324, 15: 225, 17: 289, 16: 256, 20: 400, 19: 361, 21: 441, 26: 676, 23: 529, 22: 484, 25: 625, 24: 576, 30: 900, 29: 841, 28: 784, 27: 729, 31: 961, 37: 1369, 34: 1156, 35: 1225, 36: 1296, 33: 1089, 32: 1024, 43: 1849, 42: 1764, 44: 1936, 40: 1600, 39: 1521, 38: 1444, 45: 2025, 53: 2809, 52: 2704, 51: 2601, 41: 1681, 50: 2500, 49: 2401, 48: 2304, 47: 2209, 46: 2116, 57: 3249, 58: 3364, 56: 3136, 55: 3025, 54: 2916, 65: 4225, 64: 4096, 63: 3969, 62: 3844, 61: 3721, 60: 3600, 59: 3481, 66: 4356, 68: 4624, 67: 4489, 70: 4900, 69: 4761, 71: 5041, 74: 5476, 73: 5329, 72: 5184, 78: 6084, 77: 5929, 76: 5776, 75: 5625, 81: 6561, 82: 6724, 80: 6400, 79: 6241, 85: 7225, 84: 7056, 83: 6889, 90: 8100, 91: 8281, 88: 7744, 87: 7569, 89: 7921, 86: 7396, 93: 8649, 92: 8464, 96: 9216, 95: 9025, 94: 8836, 99: 9801, 100: 10000, 98: 9604, 97: 9409}\n"
     ]
    }
   ],
   "source": [
    "results = {}\n",
    "threads = [threading.Thread(target=longSquare, args=(n, results)) for n in range(1, 101)]\n",
    "[thread.start() for thread in threads]\n",
    "[thread.join() for thread in threads]\n",
    "print(results)"
   ]
  }
 ],
 "metadata": {
  "kernelspec": {
   "display_name": "Python 3",
   "language": "python",
   "name": "python3"
  },
  "language_info": {
   "codemirror_mode": {
    "name": "ipython",
    "version": 3
   },
   "file_extension": ".py",
   "mimetype": "text/x-python",
   "name": "python",
   "nbconvert_exporter": "python",
   "pygments_lexer": "ipython3",
   "version": "3.12.3"
  }
 },
 "nbformat": 4,
 "nbformat_minor": 2
}
