{
 "cells": [
  {
   "cell_type": "code",
   "execution_count": 4,
   "metadata": {},
   "outputs": [],
   "source": [
    "class Stock:\n",
    "    def __init__(self, ticker, price, company) -> None:\n",
    "        self.ticker = ticker\n",
    "        self.price = price\n",
    "        self.company = company\n",
    "    \n",
    "    def get_description(self):\n",
    "        return f\"{self.ticker}: {self.company} -- ${self.price}\""
   ]
  },
  {
   "cell_type": "code",
   "execution_count": 5,
   "metadata": {},
   "outputs": [],
   "source": [
    "msft = Stock(\"MSFT\", 342.0, \"Microsoft Corp\")\n",
    "goog = Stock(\"GOOG\", 135.0, \"Google Inc\")\n",
    "meta = Stock(\"META\", 275.0, \"Meta Platforms Inc\")\n",
    "amzn = Stock(\"AMZN\", 135.0, \"Amazon Inc\")"
   ]
  },
  {
   "cell_type": "code",
   "execution_count": 6,
   "metadata": {},
   "outputs": [
    {
     "name": "stdout",
     "output_type": "stream",
     "text": [
      "MSFT: Microsoft Corp -- $342.0\n",
      "GOOG: Google Inc -- $135.0\n",
      "META: Meta Platforms Inc -- $275.0\n",
      "AMZN: Amazon Inc -- $135.0\n"
     ]
    }
   ],
   "source": [
    "print(msft.get_description())\n",
    "print(goog.get_description())\n",
    "print(meta.get_description())\n",
    "print(amzn.get_description())"
   ]
  }
 ],
 "metadata": {
  "kernelspec": {
   "display_name": "Python 3",
   "language": "python",
   "name": "python3"
  },
  "language_info": {
   "codemirror_mode": {
    "name": "ipython",
    "version": 3
   },
   "file_extension": ".py",
   "mimetype": "text/x-python",
   "name": "python",
   "nbconvert_exporter": "python",
   "pygments_lexer": "ipython3",
   "version": "3.12.3"
  }
 },
 "nbformat": 4,
 "nbformat_minor": 2
}
