{
 "cells": [
  {
   "cell_type": "code",
   "execution_count": 21,
   "metadata": {},
   "outputs": [],
   "source": [
    "from abc import ABC, abstractmethod"
   ]
  },
  {
   "cell_type": "code",
   "execution_count": 22,
   "metadata": {},
   "outputs": [],
   "source": [
    "class Asset(ABC):\n",
    "    def __init__(self, price) -> None:\n",
    "        super().__init__()\n",
    "        self.price = price\n",
    "    \n",
    "    @abstractmethod\n",
    "    def get_description(self):\n",
    "        pass"
   ]
  },
  {
   "cell_type": "code",
   "execution_count": 23,
   "metadata": {},
   "outputs": [],
   "source": [
    "class Stock(Asset):\n",
    "    def __init__(self, ticker, price, companyName) -> None:\n",
    "        self.companyName = companyName\n",
    "        self.ticker = ticker\n",
    "        super().__init__(price)\n",
    "    \n",
    "    def get_description(self):\n",
    "        return f\"{self.ticker}: {self.companyName} -- ${self.price}\""
   ]
  },
  {
   "cell_type": "code",
   "execution_count": 24,
   "metadata": {},
   "outputs": [],
   "source": [
    "class Bond(Asset):\n",
    "    def __init__(self, description, duration, yieldamt, price) -> None:\n",
    "        self.description = description\n",
    "        self.duration = duration\n",
    "        self.yieldamt = yieldamt\n",
    "        super().__init__(price)\n",
    "\n",
    "    def get_description(self):\n",
    "        return f\"{self.description}: {self.duration}'yr' : ${self.price} : {self.yieldamt}%\""
   ]
  },
  {
   "cell_type": "code",
   "execution_count": 25,
   "metadata": {},
   "outputs": [],
   "source": [
    "msft = Stock(\"MSFT\", 342.0, \"Microsoft Corp\")\n",
    "goog = Stock(\"GOOG\", 135.0, \"Google Inc\")\n",
    "meta = Stock(\"META\", 275.0, \"Meta Platforms Inc\")\n",
    "amzn = Stock(\"AMZN\", 135.0, \"Amazon Inc\")\n",
    "\n",
    "us30yr = Bond(\"30 Year US Treasury\", 30, 4.38, 95.31)\n",
    "us10yr = Bond(\"10 Year US Treasury\", 10, 4.28, 96.70)\n",
    "us5yr = Bond(\"5 Year US Treasury\", 5, 4.43, 98.65)\n",
    "us2yr = Bond(\"2 Year US Treasury\", 2, 4.98, 99.57)"
   ]
  },
  {
   "cell_type": "code",
   "execution_count": 26,
   "metadata": {},
   "outputs": [
    {
     "name": "stdout",
     "output_type": "stream",
     "text": [
      "MSFT: Microsoft Corp -- $342.0\n",
      "GOOG: Google Inc -- $135.0\n",
      "META: Meta Platforms Inc -- $275.0\n",
      "AMZN: Amazon Inc -- $135.0\n"
     ]
    }
   ],
   "source": [
    "print(msft.get_description())\n",
    "print(goog.get_description())\n",
    "print(meta.get_description())\n",
    "print(amzn.get_description())"
   ]
  },
  {
   "cell_type": "code",
   "execution_count": 28,
   "metadata": {},
   "outputs": [
    {
     "name": "stdout",
     "output_type": "stream",
     "text": [
      "30 Year US Treasury: 30'yr' : $95.31 : 4.38%\n",
      "10 Year US Treasury: 10'yr' : $96.7 : 4.28%\n",
      "5 Year US Treasury: 5'yr' : $98.65 : 4.43%\n",
      "2 Year US Treasury: 2'yr' : $99.57 : 4.98%\n"
     ]
    }
   ],
   "source": [
    "print(us30yr.get_description())\n",
    "print(us10yr.get_description())\n",
    "print(us5yr.get_description())\n",
    "print(us2yr.get_description())"
   ]
  }
 ],
 "metadata": {
  "kernelspec": {
   "display_name": "Python 3",
   "language": "python",
   "name": "python3"
  },
  "language_info": {
   "codemirror_mode": {
    "name": "ipython",
    "version": 3
   },
   "file_extension": ".py",
   "mimetype": "text/x-python",
   "name": "python",
   "nbconvert_exporter": "python",
   "pygments_lexer": "ipython3",
   "version": "3.12.3"
  }
 },
 "nbformat": 4,
 "nbformat_minor": 2
}
